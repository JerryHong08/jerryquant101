{
 "cells": [
  {
   "cell_type": "code",
   "execution_count": 7,
   "id": "df45aa64",
   "metadata": {},
   "outputs": [
    {
     "name": "stdout",
     "output_type": "stream",
     "text": [
      "shape: (3, 5)\n",
      "┌────────┬───────────┬─────────┬───────────────┬──────────┐\n",
      "│ ticker ┆ max_high  ┆ min_low ┆ total_volume  ┆ turnover │\n",
      "│ ---    ┆ ---       ┆ ---     ┆ ---           ┆ ---      │\n",
      "│ str    ┆ f32       ┆ f32     ┆ decimal[38,0] ┆ f64      │\n",
      "╞════════╪═══════════╪═════════╪═══════════════╪══════════╡\n",
      "│ ICBK   ┆ 37.299999 ┆ 13.55   ┆ 18947471      ┆ 4.4948e8 │\n",
      "│ QUBX   ┆ 37.240002 ┆ 13.4181 ┆ 10218798      ┆ 2.2291e8 │\n",
      "│ FTXO   ┆ 37.200001 ┆ 13.37   ┆ 278790057     ┆ 7.5961e9 │\n",
      "└────────┴───────────┴─────────┴───────────────┴──────────┘\n"
     ]
    }
   ],
   "source": [
    "import duckdb\n",
    "import polars as pl\n",
    "import os\n",
    "# duckdb for 1 month 1 minute stock parquet\n",
    "# data_dir = \"../data/lake/us_stocks_sip/minute_aggs_v1/2025/07/*.parquet\"\n",
    "# data_dir = \"../data/lake/us_stocks_sip/day_aggs_v1/*/*/*.parquet\"\n",
    "from quant101.core_2.config import data_dir\n",
    "\n",
    "data_dir = os.path.join(data_dir, \"lake/us_stocks_sip/day_aggs_v1/*/*/*.parquet\")\n",
    "\n",
    "con = duckdb.connect()\n",
    "\n",
    "result = con.sql(f\"\"\"\n",
    "SELECT\n",
    "    ticker,\n",
    "    MAX(high) as max_high,\n",
    "    MIN(low) as min_low,\n",
    "    SUM(volume) AS total_volume,\n",
    "    SUM(volume * close) AS turnover\n",
    "FROM '{data_dir}'\n",
    "GROUP BY ticker\n",
    "HAVING MAX(high) BETWEEN 37.20 AND 37.30\n",
    "    AND MIN(low) BETWEEN 13.20 AND 13.60\n",
    "\"\"\").pl()\n",
    "# WHERE ticker = 'TSE'\n",
    "\n",
    "# 方法1: 设置 Polars 显示选项\n",
    "\n",
    "with pl.Config(tbl_rows=100, tbl_cols=10, fmt_str_lengths=50):\n",
    "    print(result)\n",
    "    \n",
    "# zstd level 3 653MB 18-20s\n",
    "# zstd level 10 631MB 18-20s"
   ]
  },
  {
   "cell_type": "code",
   "execution_count": 8,
   "id": "bbc81e8e",
   "metadata": {},
   "outputs": [
    {
     "name": "stdout",
     "output_type": "stream",
     "text": [
      "shape: (1, 5)\n",
      "┌────────────────────────────────────────────────┬────────────────┬────────────┬──────────┬────────┐\n",
      "│ id                                             ┆ execution_date ┆ split_from ┆ split_to ┆ ticker │\n",
      "│ ---                                            ┆ ---            ┆ ---        ┆ ---      ┆ ---    │\n",
      "│ str                                            ┆ str            ┆ f64        ┆ f64      ┆ str    │\n",
      "╞════════════════════════════════════════════════╪════════════════╪════════════╪══════════╪════════╡\n",
      "│ E1a300d5b5f47a368890f04f9508c697580362a81d7411 ┆ 2025-07-17     ┆ 7.0        ┆ 8.0      ┆ ENVX   │\n",
      "│ 50703db9e488cd95625                            ┆                ┆            ┆          ┆        │\n",
      "└────────────────────────────────────────────────┴────────────────┴────────────┴──────────┴────────┘\n"
     ]
    }
   ],
   "source": [
    "import duckdb\n",
    "import polars as pl\n",
    "\n",
    "# splits data read\n",
    "\n",
    "splits_dir = '../data/raw/us_stocks_sip/splits/splits.parquet'\n",
    "\n",
    "# 1. polars\n",
    "# splits = pl.read_parquet(splits_dir)\n",
    "# result = splits.filter(pl.col('ticker') == 'ENVX')\n",
    "\n",
    "# 2. duckdb\n",
    "con = duckdb.connect()\n",
    "\n",
    "result = con.sql(f\"\"\"\n",
    "                 SELECT * FROM '{splits_dir}'\n",
    "                 WHERE ticker ='ENVX'\n",
    "                 \"\"\"\n",
    ").pl()\n",
    "\n",
    "with pl.Config(tbl_rows=20, tbl_cols=20, fmt_str_lengths=100):\n",
    "    print(result)\n"
   ]
  },
  {
   "cell_type": "code",
   "execution_count": 18,
   "id": "e63f211b",
   "metadata": {},
   "outputs": [
    {
     "name": "stdout",
     "output_type": "stream",
     "text": [
      "shape: (1, 2)\n",
      "┌────────────┬─────────────┐\n",
      "│ max_high   ┆ window_date │\n",
      "│ ---        ┆ ---         │\n",
      "│ f32        ┆ str         │\n",
      "╞════════════╪═════════════╡\n",
      "│ 122.730003 ┆ 2024-06-10  │\n",
      "└────────────┴─────────────┘\n"
     ]
    }
   ],
   "source": [
    "import duckdb\n",
    "import polars as pl\n",
    "import os\n",
    "# duckdb for 1 month 1 minute stock parquet\n",
    "# data_dir = \"../data/lake/us_stocks_sip/minute_aggs_v1/2025/07/*.parquet\"\n",
    "# data_dir = \"../data/lake/us_stocks_sip/day_aggs_v1/*/*/*.parquet\"\n",
    "from quant101.core_2.config import data_dir\n",
    "\n",
    "data_dir = os.path.join(data_dir, \"lake/us_stocks_sip/minute_aggs_v1/2024/06/*.parquet\")\n",
    "\n",
    "con = duckdb.connect()\n",
    "\n",
    "result = con.sql(f\"\"\"\n",
    "SELECT\n",
    "    MAX(high) as max_high,\n",
    "    STRFTIME(\n",
    "        TO_TIMESTAMP(window_start / 1000000000),\n",
    "        '%Y-%m-%d'\n",
    "    ) AS window_date\n",
    "FROM '{data_dir}'\n",
    "WHERE ticker = 'NVDA'\n",
    "    AND STRFTIME(\n",
    "        TO_TIMESTAMP(window_start / 1000000000),\n",
    "        '%Y-%m-%d'\n",
    "    ) = '2024-06-10'\n",
    "GROUP BY window_date\n",
    "\"\"\").pl()\n",
    "\n",
    "\n",
    "with pl.Config(tbl_rows=100, tbl_cols=10, fmt_str_lengths=50):\n",
    "    print(result)"
   ]
  },
  {
   "cell_type": "code",
   "execution_count": 10,
   "id": "ed3be4bd",
   "metadata": {},
   "outputs": [
    {
     "name": "stdout",
     "output_type": "stream",
     "text": [
      "shape: (5, 10)\n",
      "┌─────────┬─────────┬─────────┬─────────┬───┬───────────────┬──────────────┬──────┬────────────────┐\n",
      "│ open    ┆ high    ┆ low     ┆ close   ┆ … ┆ timestamp     ┆ transactions ┆ otc  ┆ date           │\n",
      "│ ---     ┆ ---     ┆ ---     ┆ ---     ┆   ┆ ---           ┆ ---          ┆ ---  ┆ ---            │\n",
      "│ f64     ┆ f64     ┆ f64     ┆ f64     ┆   ┆ i64           ┆ i64          ┆ bool ┆ datetime[ms,   │\n",
      "│         ┆         ┆         ┆         ┆   ┆               ┆              ┆      ┆ America/New_Yo │\n",
      "│         ┆         ┆         ┆         ┆   ┆               ┆              ┆      ┆ rk]            │\n",
      "╞═════════╪═════════╪═════════╪═════════╪═══╪═══════════════╪══════════════╪══════╪════════════════╡\n",
      "│ 4138.09 ┆ 4145.96 ┆ 4122.47 ┆ 4136.13 ┆ … ┆ 1676354400000 ┆ null         ┆ null ┆ 2023-02-14     │\n",
      "│         ┆         ┆         ┆         ┆   ┆               ┆              ┆      ┆ 00:00:00 EST   │\n",
      "│ 4119.5  ┆ 4148.11 ┆ 4103.98 ┆ 4147.6  ┆ … ┆ 1676440800000 ┆ null         ┆ null ┆ 2023-02-15     │\n",
      "│         ┆         ┆         ┆         ┆   ┆               ┆              ┆      ┆ 00:00:00 EST   │\n",
      "│ 4114.75 ┆ 4136.54 ┆ 4089.49 ┆ 4090.41 ┆ … ┆ 1676527200000 ┆ null         ┆ null ┆ 2023-02-16     │\n",
      "│         ┆         ┆         ┆         ┆   ┆               ┆              ┆      ┆ 00:00:00 EST   │\n",
      "│ 4077.39 ┆ 4081.51 ┆ 4047.95 ┆ 4079.09 ┆ … ┆ 1676613600000 ┆ null         ┆ null ┆ 2023-02-17     │\n",
      "│         ┆         ┆         ┆         ┆   ┆               ┆              ┆      ┆ 00:00:00 EST   │\n",
      "│ 4052.35 ┆ 4052.35 ┆ 3995.19 ┆ 3997.34 ┆ … ┆ 1676959200000 ┆ null         ┆ null ┆ 2023-02-21     │\n",
      "│         ┆         ┆         ┆         ┆   ┆               ┆              ┆      ┆ 00:00:00 EST   │\n",
      "└─────────┴─────────┴─────────┴─────────┴───┴───────────────┴──────────────┴──────┴────────────────┘\n"
     ]
    }
   ],
   "source": [
    "import polars as pl\n",
    "\n",
    "# 先查看原始timestamp的格式\n",
    "spx = pl.read_parquet('../I:SPXday20150101_20250905.parquet')\n",
    "spx = spx.with_columns(\n",
    "    pl.from_epoch(pl.col(\"timestamp\"), time_unit=\"ms\")  # 从毫秒时间戳转换\n",
    "    .dt.convert_time_zone('America/New_York')\n",
    "    .dt.replace(hour=0, minute=0, second=0)\n",
    "    .alias('date')\n",
    ")\n",
    "print(spx.head())"
   ]
  }
 ],
 "metadata": {
  "kernelspec": {
   "display_name": "quant101-rQ2o9wWd-py3.11",
   "language": "python",
   "name": "python3"
  },
  "language_info": {
   "codemirror_mode": {
    "name": "ipython",
    "version": 3
   },
   "file_extension": ".py",
   "mimetype": "text/x-python",
   "name": "python",
   "nbconvert_exporter": "python",
   "pygments_lexer": "ipython3",
   "version": "3.11.9"
  }
 },
 "nbformat": 4,
 "nbformat_minor": 5
}
