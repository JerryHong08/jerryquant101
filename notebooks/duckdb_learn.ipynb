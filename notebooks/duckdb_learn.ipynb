{
 "cells": [
  {
   "cell_type": "code",
   "execution_count": null,
   "id": "df45aa64",
   "metadata": {},
   "outputs": [
    {
     "data": {
      "application/vnd.jupyter.widget-view+json": {
       "model_id": "864259fca5784935a6e24d699be98c68",
       "version_major": 2,
       "version_minor": 0
      },
      "text/plain": [
       "FloatProgress(value=0.0, layout=Layout(width='auto'), style=ProgressStyle(bar_color='black'))"
      ]
     },
     "metadata": {},
     "output_type": "display_data"
    },
    {
     "name": "stdout",
     "output_type": "stream",
     "text": [
      "shape: (1, 5)\n",
      "┌────────┬───────────┬─────────┬───────────────┬──────────┐\n",
      "│ ticker ┆ max_high  ┆ min_low ┆ total_volume  ┆ turnover │\n",
      "│ ---    ┆ ---       ┆ ---     ┆ ---           ┆ ---      │\n",
      "│ str    ┆ f32       ┆ f32     ┆ decimal[38,0] ┆ f64      │\n",
      "╞════════╪═══════════╪═════════╪═══════════════╪══════════╡\n",
      "│ QUBX   ┆ 37.240002 ┆ 14.3904 ┆ 7105283       ┆ 1.6908e8 │\n",
      "└────────┴───────────┴─────────┴───────────────┴──────────┘\n"
     ]
    }
   ],
   "source": [
    "import duckdb\n",
    "import polars as pl\n",
    "# duckdb for 1 month 1 minute stock parquet\n",
    "# data_dir = \"../data/lake/us_stocks_sip/minute_aggs_v1/2025/07/*.parquet\"\n",
    "data_dir = \"../data/lake/us_stocks_sip/day_aggs_v1/*/*/*.parquet\"\n",
    "con = duckdb.connect()\n",
    "\n",
    "result = con.sql(f\"\"\"\n",
    "SELECT\n",
    "    ticker,\n",
    "    MAX(high) as max_high,\n",
    "    MIN(low) as min_low,\n",
    "    SUM(volume) AS total_volume,\n",
    "    SUM(volume * close) AS turnover\n",
    "FROM '{data_dir}'\n",
    "GROUP BY ticker\n",
    "HAVING MAX(high) BETWEEN 37.20 AND 37.30\n",
    "    AND MIN(low) BETWEEN 14.20 AND 14.60\n",
    "\"\"\").pl()\n",
    "# WHERE ticker = 'TSE'\n",
    "\n",
    "# 方法1: 设置 Polars 显示选项\n",
    "\n",
    "with pl.Config(tbl_rows=100, tbl_cols=10, fmt_str_lengths=50):\n",
    "    print(result)\n",
    "    \n",
    "# zstd level 3 653MB 18-20s\n",
    "# zstd level 10 631MB 18-20s"
   ]
  },
  {
   "cell_type": "code",
   "execution_count": null,
   "id": "bbc81e8e",
   "metadata": {},
   "outputs": [
    {
     "name": "stdout",
     "output_type": "stream",
     "text": [
      "shape: (1, 5)\n",
      "┌────────────────────────────────────────────────┬────────────────┬────────────┬──────────┬────────┐\n",
      "│ id                                             ┆ execution_date ┆ split_from ┆ split_to ┆ ticker │\n",
      "│ ---                                            ┆ ---            ┆ ---        ┆ ---      ┆ ---    │\n",
      "│ str                                            ┆ str            ┆ f64        ┆ f64      ┆ str    │\n",
      "╞════════════════════════════════════════════════╪════════════════╪════════════╪══════════╪════════╡\n",
      "│ E1a300d5b5f47a368890f04f9508c697580362a81d7411 ┆ 2025-07-17     ┆ 7.0        ┆ 8.0      ┆ ENVX   │\n",
      "│ 50703db9e488cd95625                            ┆                ┆            ┆          ┆        │\n",
      "└────────────────────────────────────────────────┴────────────────┴────────────┴──────────┴────────┘\n"
     ]
    }
   ],
   "source": [
    "import duckdb\n",
    "import polars as pl\n",
    "\n",
    "# splits data read\n",
    "\n",
    "splits_dir = '../data/raw/us_stocks_sip/splits/splits.parquet'\n",
    "\n",
    "# 1. polars\n",
    "# splits = pl.read_parquet(splits_dir)\n",
    "# result = splits.filter(pl.col('ticker') == 'ENVX')\n",
    "\n",
    "# 2. duckdb\n",
    "con = duckdb.connect()\n",
    "\n",
    "result = con.sql(f\"\"\"\n",
    "                 SELECT * FROM '{splits_dir}'\n",
    "                 WHERE ticker ='ENVX'\n",
    "                 \"\"\"\n",
    ").pl()\n",
    "\n",
    "with pl.Config(tbl_rows=20, tbl_cols=20, fmt_str_lengths=100):\n",
    "    print(result)\n",
    "    \n",
    "\n"
   ]
  }
 ],
 "metadata": {
  "kernelspec": {
   "display_name": "quant101-rQ2o9wWd-py3.11",
   "language": "python",
   "name": "python3"
  },
  "language_info": {
   "codemirror_mode": {
    "name": "ipython",
    "version": 3
   },
   "file_extension": ".py",
   "mimetype": "text/x-python",
   "name": "python",
   "nbconvert_exporter": "python",
   "pygments_lexer": "ipython3",
   "version": "3.11.9"
  }
 },
 "nbformat": 4,
 "nbformat_minor": 5
}
