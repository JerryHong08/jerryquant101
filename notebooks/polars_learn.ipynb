{
 "cells": [
  {
   "cell_type": "code",
   "execution_count": null,
   "id": "1da5ce69",
   "metadata": {},
   "outputs": [
    {
     "name": "stdout",
     "output_type": "stream",
     "text": [
      "shape: (4, 4)\n",
      "┌────────────────┬────────────┬────────┬────────┐\n",
      "│ name           ┆ birthdate  ┆ weight ┆ height │\n",
      "│ ---            ┆ ---        ┆ ---    ┆ ---    │\n",
      "│ str            ┆ date       ┆ f64    ┆ f64    │\n",
      "╞════════════════╪════════════╪════════╪════════╡\n",
      "│ Alice Archer   ┆ 1997-01-10 ┆ 57.9   ┆ 1.56   │\n",
      "│ Ben Brown      ┆ 1985-02-15 ┆ 72.5   ┆ 1.77   │\n",
      "│ Chloe Cooper   ┆ 1983-03-22 ┆ 53.6   ┆ 1.65   │\n",
      "│ Daniel Donovan ┆ 1981-04-30 ┆ 83.1   ┆ 1.75   │\n",
      "└────────────────┴────────────┴────────┴────────┘\n",
      "shape: (5, 8)\n",
      "┌────────────────────┬────────┬──────┬───────┬──────┬──────┬─────────────────────┬──────────────┐\n",
      "│ ticker             ┆ volume ┆ open ┆ close ┆ high ┆ low  ┆ window_start        ┆ transactions │\n",
      "│ ---                ┆ ---    ┆ ---  ┆ ---   ┆ ---  ┆ ---  ┆ ---                 ┆ ---          │\n",
      "│ str                ┆ i64    ┆ f64  ┆ f64   ┆ f64  ┆ f64  ┆ i64                 ┆ i64          │\n",
      "╞════════════════════╪════════╪══════╪═══════╪══════╪══════╪═════════════════════╪══════════════╡\n",
      "│ O:A250718C00110000 ┆ 1      ┆ 12.0 ┆ 12.0  ┆ 12.0 ┆ 12.0 ┆ 1751383620000000000 ┆ 1            │\n",
      "│ O:A250718C00115000 ┆ 1      ┆ 8.0  ┆ 8.0   ┆ 8.0  ┆ 8.0  ┆ 1751384460000000000 ┆ 1            │\n",
      "│ O:A250718C00120000 ┆ 1      ┆ 3.7  ┆ 3.7   ┆ 3.7  ┆ 3.7  ┆ 1751382960000000000 ┆ 1            │\n",
      "│ O:A250718C00120000 ┆ 1      ┆ 4.5  ┆ 4.5   ┆ 4.5  ┆ 4.5  ┆ 1751385180000000000 ┆ 1            │\n",
      "│ O:A250718C00120000 ┆ 2      ┆ 4.42 ┆ 4.42  ┆ 4.42 ┆ 4.42 ┆ 1751385660000000000 ┆ 1            │\n",
      "└────────────────────┴────────┴──────┴───────┴──────┴──────┴─────────────────────┴──────────────┘\n"
     ]
    }
   ],
   "source": [
    "import polars as pl\n",
    "import datetime as dt\n",
    "import pandas as pd\n",
    "df = pl.DataFrame(\n",
    "    {\n",
    "        \"name\": [\"Alice Archer\", \"Ben Brown\", \"Chloe Cooper\", \"Daniel Donovan\"],\n",
    "        \"birthdate\": [\n",
    "            dt.date(1997, 1, 10),\n",
    "            dt.date(1985, 2, 15),\n",
    "            dt.date(1983, 3, 22),\n",
    "            dt.date(1981, 4, 30),\n",
    "        ],\n",
    "        \"weight\": [57.9, 72.5, 53.6, 83.1],  # (kg)\n",
    "        \"height\": [1.56, 1.77, 1.65, 1.75],  # (m)\n",
    "    }\n",
    ")\n",
    "\n",
    "# print(df)\n",
    "\n",
    "df.write_csv(\"../data/cache/polars.csv\")\n",
    "# df_csv = pl.read_csv(\"../data/cache/polars.csv\", try_parse_dates=True)\n",
    "\n",
    "df_csv = pl.read_csv('../data/raw/us_options_opra/minute_aggs_v1/2025/07/2025-07-01.csv.gz')\n",
    "\n",
    "print(df_csv.head())"
   ]
  },
  {
   "cell_type": "code",
   "execution_count": null,
   "id": "c877df66",
   "metadata": {},
   "outputs": [
    {
     "name": "stdout",
     "output_type": "stream",
     "text": [
      "shape: (1, 4)\n",
      "┌────────┬──────────┬────────────┬───────────┐\n",
      "│ ticker ┆ vwap     ┆ last_close ┆ ratio     │\n",
      "│ ---    ┆ ---      ┆ ---        ┆ ---       │\n",
      "│ str    ┆ f64      ┆ f32        ┆ f64       │\n",
      "╞════════╪══════════╪════════════╪═══════════╡\n",
      "│ GVH    ┆ 0.133029 ┆ 5.56       ┆ 41.795326 │\n",
      "└────────┴──────────┴────────────┴───────────┘\n"
     ]
    }
   ],
   "source": [
    "import polars as pl\n",
    "\n",
    "data_dir = \"../data/lake/us_stocks_sip/minute_aggs_v1/2025/07/*.parquet\"\n",
    "\n",
    "lf = pl.scan_parquet(data_dir)\n",
    "\n",
    "# 转换时间戳，方便取最后一日\n",
    "lf = lf.with_columns(\n",
    "    pl.from_epoch(\"window_start\", time_unit=\"ns\").alias(\"datetime\")\n",
    ")\n",
    "\n",
    "# 计算 VWAP (每个 ticker)\n",
    "vwap = (\n",
    "    lf.group_by(\"ticker\")\n",
    "      .agg((pl.col(\"close\") * pl.col(\"volume\")).sum() / pl.col(\"volume\").sum())\n",
    "      .rename({\"close\": \"vwap\"})\n",
    ")\n",
    "\n",
    "# 找到每个 ticker 当月最后的 close\n",
    "last_close = (\n",
    "    lf.sort(\"datetime\")\n",
    "      .group_by(\"ticker\")\n",
    "      .tail(1)\n",
    "      .select([\"ticker\", \"close\"])\n",
    "      .rename({\"close\": \"last_close\"})\n",
    ")\n",
    "\n",
    "# 合并结果，计算比率\n",
    "result = (\n",
    "    vwap.join(last_close, on=\"ticker\")\n",
    "        .with_columns((pl.col(\"last_close\") / pl.col(\"vwap\")).alias(\"ratio\"))\n",
    "        .sort(\"ratio\", descending=True)\n",
    "        .limit(1)\n",
    ")\n",
    "\n",
    "print(result.collect())"
   ]
  },
  {
   "cell_type": "code",
   "execution_count": 1,
   "id": "04c45efc",
   "metadata": {},
   "outputs": [
    {
     "data": {
      "application/vnd.jupyter.widget-view+json": {
       "model_id": "6b472df3436a410ba828326e996478c0",
       "version_major": 2,
       "version_minor": 0
      },
      "text/plain": [
       "FloatProgress(value=0.0, layout=Layout(width='auto'), style=ProgressStyle(bar_color='black'))"
      ]
     },
     "metadata": {},
     "output_type": "display_data"
    },
    {
     "name": "stdout",
     "output_type": "stream",
     "text": [
      "  ticker      vwap  last_close      ratio\n",
      "0    GVH  0.133029        5.56  41.795326\n"
     ]
    }
   ],
   "source": [
    "import duckdb\n",
    "\n",
    "data_dir = \"../data/lake/us_stocks_sip/minute_aggs_v1/2025/07/*.parquet\"\n",
    "con = duckdb.connect()\n",
    "\n",
    "query = f\"\"\"\n",
    "WITH vwap AS (\n",
    "    SELECT \n",
    "        ticker,\n",
    "        SUM(close * volume)::DOUBLE / NULLIF(SUM(volume),0) AS vwap\n",
    "    FROM '{data_dir}'\n",
    "    GROUP BY ticker\n",
    "),\n",
    "last_close AS (\n",
    "    SELECT DISTINCT ON (ticker)\n",
    "        ticker, close AS last_close\n",
    "    FROM '{data_dir}'\n",
    "    ORDER BY ticker, window_start DESC\n",
    ")\n",
    "SELECT \n",
    "    vwap.ticker,\n",
    "    vwap.vwap,\n",
    "    last_close.last_close,\n",
    "    last_close.last_close / vwap.vwap AS ratio\n",
    "FROM vwap\n",
    "JOIN last_close USING (ticker)\n",
    "ORDER BY ratio DESC\n",
    "LIMIT 1;\n",
    "\"\"\"\n",
    "\n",
    "result = con.sql(query).df()\n",
    "print(result)"
   ]
  },
  {
   "cell_type": "code",
   "execution_count": 1,
   "id": "c4343bb9",
   "metadata": {},
   "outputs": [
    {
     "name": "stdout",
     "output_type": "stream",
     "text": [
      "shape: (45, 5)\n",
      "┌─────────────────────┬────────────────────────────────┬───────────────────┬───────────────────┬────────────────────────────────┐\n",
      "│ index               ┆ open                           ┆ break_start       ┆ break_end         ┆ close                          │\n",
      "│ ---                 ┆ ---                            ┆ ---               ┆ ---               ┆ ---                            │\n",
      "│ datetime[ns]        ┆ datetime[ns, America/New_York] ┆ datetime[ns, UTC] ┆ datetime[ns, UTC] ┆ datetime[ns, America/New_York] │\n",
      "╞═════════════════════╪════════════════════════════════╪═══════════════════╪═══════════════════╪════════════════════════════════╡\n",
      "│ 2005-11-25 00:00:00 ┆ 2005-11-25 09:30:00 EST        ┆ null              ┆ null              ┆ 2005-11-25 13:00:00 EST        │\n",
      "│ 2006-07-03 00:00:00 ┆ 2006-07-03 09:30:00 EDT        ┆ null              ┆ null              ┆ 2006-07-03 13:00:00 EDT        │\n",
      "│ 2006-11-24 00:00:00 ┆ 2006-11-24 09:30:00 EST        ┆ null              ┆ null              ┆ 2006-11-24 13:00:00 EST        │\n",
      "│ 2007-07-03 00:00:00 ┆ 2007-07-03 09:30:00 EDT        ┆ null              ┆ null              ┆ 2007-07-03 13:00:00 EDT        │\n",
      "│ 2007-11-23 00:00:00 ┆ 2007-11-23 09:30:00 EST        ┆ null              ┆ null              ┆ 2007-11-23 13:00:00 EST        │\n",
      "│ …                   ┆ …                              ┆ …                 ┆ …                 ┆ …                              │\n",
      "│ 2024-11-29 00:00:00 ┆ 2024-11-29 09:30:00 EST        ┆ null              ┆ null              ┆ 2024-11-29 13:00:00 EST        │\n",
      "│ 2024-12-24 00:00:00 ┆ 2024-12-24 09:30:00 EST        ┆ null              ┆ null              ┆ 2024-12-24 13:00:00 EST        │\n",
      "│ 2025-07-03 00:00:00 ┆ 2025-07-03 09:30:00 EDT        ┆ null              ┆ null              ┆ 2025-07-03 13:00:00 EDT        │\n",
      "│ 2025-11-28 00:00:00 ┆ 2025-11-28 09:30:00 EST        ┆ null              ┆ null              ┆ 2025-11-28 13:00:00 EST        │\n",
      "│ 2025-12-24 00:00:00 ┆ 2025-12-24 09:30:00 EST        ┆ null              ┆ null              ┆ 2025-12-24 13:00:00 EST        │\n",
      "└─────────────────────┴────────────────────────────────┴───────────────────┴───────────────────┴────────────────────────────────┘\n"
     ]
    }
   ],
   "source": [
    "import polars as pl\n",
    "import exchange_calendars as xcals\n",
    "\n",
    "# 纽约证券交易所 (美国)\n",
    "xnys = xcals.get_calendar('XNYS')\n",
    "snys_schedule = xnys.schedule.loc['2005-01-01':'2025-12-31'] \n",
    "\n",
    "# 转换为 Polars DataFrame\n",
    "df_schedule = pl.from_pandas(snys_schedule.reset_index())\n",
    "\n",
    "df_schedule = df_schedule.with_columns([\n",
    "    pl.col('open').dt.convert_time_zone('America/New_York'),\n",
    "    pl.col('close').dt.convert_time_zone('America/New_York')\n",
    "])\n",
    "\n",
    "with pl.Config(tbl_cols=200, fmt_str_lengths=200, tbl_width_chars=3000, tbl_formatting=\"UTF8_FULL_CONDENSED\"):\n",
    "    df_schedule_filtered = df_schedule.filter(\n",
    "        pl.col('close').dt.hour() != 16\n",
    "    )\n",
    "    print(df_schedule_filtered)"
   ]
  },
  {
   "cell_type": "code",
   "execution_count": 10,
   "id": "fb480a0b",
   "metadata": {},
   "outputs": [
    {
     "name": "stdout",
     "output_type": "stream",
     "text": [
      "shape: (3, 9)\n",
      "┌────────┬──────────┬───────┬───────────┬───────────┬───────────┬───────────┬───────────┬──────────┐\n",
      "│ ticker ┆ volume   ┆ open  ┆ close     ┆ high      ┆ low       ┆ window_st ┆ transacti ┆ timestam │\n",
      "│ ---    ┆ ---      ┆ ---   ┆ ---       ┆ ---       ┆ ---       ┆ art       ┆ ons       ┆ ps       │\n",
      "│ str    ┆ u64      ┆ f32   ┆ f32       ┆ f32       ┆ f32       ┆ ---       ┆ ---       ┆ ---      │\n",
      "│        ┆          ┆       ┆           ┆           ┆           ┆ i64       ┆ u32       ┆ datetime │\n",
      "│        ┆          ┆       ┆           ┆           ┆           ┆           ┆           ┆ [ns, Ame │\n",
      "│        ┆          ┆       ┆           ┆           ┆           ┆           ┆           ┆ rica/New │\n",
      "│        ┆          ┆       ┆           ┆           ┆           ┆           ┆           ┆ _York]   │\n",
      "╞════════╪══════════╪═══════╪═══════════╪═══════════╪═══════════╪═══════════╪═══════════╪══════════╡\n",
      "│ UVXY   ┆ 13982784 ┆ 18.73 ┆ 18.65     ┆ 18.870001 ┆ 18.389999 ┆ 175142880 ┆ 56256     ┆ 2025-07- │\n",
      "│        ┆          ┆       ┆           ┆           ┆           ┆ 000000000 ┆           ┆ 02       │\n",
      "│        ┆          ┆       ┆           ┆           ┆           ┆ 0         ┆           ┆ 00:00:00 │\n",
      "│        ┆          ┆       ┆           ┆           ┆           ┆           ┆           ┆ EDT      │\n",
      "│ UVXY   ┆ 15586318 ┆ 18.15 ┆ 18.450001 ┆ 18.540001 ┆ 18.02     ┆ 175151520 ┆ 68623     ┆ 2025-07- │\n",
      "│        ┆          ┆       ┆           ┆           ┆           ┆ 000000000 ┆           ┆ 03       │\n",
      "│        ┆          ┆       ┆           ┆           ┆           ┆ 0         ┆           ┆ 00:00:00 │\n",
      "│        ┆          ┆       ┆           ┆           ┆           ┆           ┆           ┆ EDT      │\n",
      "│ UVXY   ┆ 24617730 ┆ 18.74 ┆ 18.67     ┆ 19.26     ┆ 18.59     ┆ 175186080 ┆ 111007    ┆ 2025-07- │\n",
      "│        ┆          ┆       ┆           ┆           ┆           ┆ 000000000 ┆           ┆ 07       │\n",
      "│        ┆          ┆       ┆           ┆           ┆           ┆ 0         ┆           ┆ 00:00:00 │\n",
      "│        ┆          ┆       ┆           ┆           ┆           ┆           ┆           ┆ EDT      │\n",
      "└────────┴──────────┴───────┴───────────┴───────────┴───────────┴───────────┴───────────┴──────────┘\n"
     ]
    }
   ],
   "source": [
    "import polars as pl\n",
    "from quant101.core_2.config import data_dir, data_dir_calculate\n",
    "import os\n",
    "\n",
    "# Get the file paths\n",
    "lake_file_paths = data_dir_calculate(\n",
    "    asset='us_stocks_sip', \n",
    "    data_type='day_aggs_v1', \n",
    "    start_date='2025-07-02',\n",
    "    end_date='2025-07-07',\n",
    "    lake=True\n",
    ")\n",
    "\n",
    "if not lake_file_paths:\n",
    "        raise ValueError(\n",
    "            f\"No data files found.\"\n",
    "        )\n",
    "\n",
    "tickers = 'UVXY'\n",
    "tickers = [t.strip().upper() for t in tickers.split(\",\")] if tickers else None\n",
    "if tickers:\n",
    "    lf = pl.scan_parquet(lake_file_paths).filter(pl.col('ticker').is_in(tickers))\n",
    "else:\n",
    "    lf = pl.scan_parquet(lake_file_paths)\n",
    "\n",
    "lf = lf.with_columns(\n",
    "    pl.from_epoch(pl.col('window_start'), time_unit='ns')\n",
    "    .dt.convert_time_zone('America/New_York')\n",
    "    .alias('timestamps')\n",
    "\n",
    ").sort('timestamps').collect()\n",
    "with pl.Config(tbl_cols=10):\n",
    "    print(lf.head())\n"
   ]
  }
 ],
 "metadata": {
  "kernelspec": {
   "display_name": "quant101-rQ2o9wWd-py3.11",
   "language": "python",
   "name": "python3"
  },
  "language_info": {
   "codemirror_mode": {
    "name": "ipython",
    "version": 3
   },
   "file_extension": ".py",
   "mimetype": "text/x-python",
   "name": "python",
   "nbconvert_exporter": "python",
   "pygments_lexer": "ipython3",
   "version": "3.11.9"
  }
 },
 "nbformat": 4,
 "nbformat_minor": 5
}
