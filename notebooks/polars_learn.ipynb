{
 "cells": [
  {
   "cell_type": "code",
   "execution_count": null,
   "id": "1da5ce69",
   "metadata": {},
   "outputs": [
    {
     "name": "stdout",
     "output_type": "stream",
     "text": [
      "shape: (4, 4)\n",
      "┌────────────────┬────────────┬────────┬────────┐\n",
      "│ name           ┆ birthdate  ┆ weight ┆ height │\n",
      "│ ---            ┆ ---        ┆ ---    ┆ ---    │\n",
      "│ str            ┆ date       ┆ f64    ┆ f64    │\n",
      "╞════════════════╪════════════╪════════╪════════╡\n",
      "│ Alice Archer   ┆ 1997-01-10 ┆ 57.9   ┆ 1.56   │\n",
      "│ Ben Brown      ┆ 1985-02-15 ┆ 72.5   ┆ 1.77   │\n",
      "│ Chloe Cooper   ┆ 1983-03-22 ┆ 53.6   ┆ 1.65   │\n",
      "│ Daniel Donovan ┆ 1981-04-30 ┆ 83.1   ┆ 1.75   │\n",
      "└────────────────┴────────────┴────────┴────────┘\n",
      "shape: (5, 8)\n",
      "┌────────────────────┬────────┬──────┬───────┬──────┬──────┬─────────────────────┬──────────────┐\n",
      "│ ticker             ┆ volume ┆ open ┆ close ┆ high ┆ low  ┆ window_start        ┆ transactions │\n",
      "│ ---                ┆ ---    ┆ ---  ┆ ---   ┆ ---  ┆ ---  ┆ ---                 ┆ ---          │\n",
      "│ str                ┆ i64    ┆ f64  ┆ f64   ┆ f64  ┆ f64  ┆ i64                 ┆ i64          │\n",
      "╞════════════════════╪════════╪══════╪═══════╪══════╪══════╪═════════════════════╪══════════════╡\n",
      "│ O:A250718C00110000 ┆ 1      ┆ 12.0 ┆ 12.0  ┆ 12.0 ┆ 12.0 ┆ 1751383620000000000 ┆ 1            │\n",
      "│ O:A250718C00115000 ┆ 1      ┆ 8.0  ┆ 8.0   ┆ 8.0  ┆ 8.0  ┆ 1751384460000000000 ┆ 1            │\n",
      "│ O:A250718C00120000 ┆ 1      ┆ 3.7  ┆ 3.7   ┆ 3.7  ┆ 3.7  ┆ 1751382960000000000 ┆ 1            │\n",
      "│ O:A250718C00120000 ┆ 1      ┆ 4.5  ┆ 4.5   ┆ 4.5  ┆ 4.5  ┆ 1751385180000000000 ┆ 1            │\n",
      "│ O:A250718C00120000 ┆ 2      ┆ 4.42 ┆ 4.42  ┆ 4.42 ┆ 4.42 ┆ 1751385660000000000 ┆ 1            │\n",
      "└────────────────────┴────────┴──────┴───────┴──────┴──────┴─────────────────────┴──────────────┘\n"
     ]
    }
   ],
   "source": [
    "import polars as pl\n",
    "import datetime as dt\n",
    "import pandas as pd\n",
    "df = pl.DataFrame(\n",
    "    {\n",
    "        \"name\": [\"Alice Archer\", \"Ben Brown\", \"Chloe Cooper\", \"Daniel Donovan\"],\n",
    "        \"birthdate\": [\n",
    "            dt.date(1997, 1, 10),\n",
    "            dt.date(1985, 2, 15),\n",
    "            dt.date(1983, 3, 22),\n",
    "            dt.date(1981, 4, 30),\n",
    "        ],\n",
    "        \"weight\": [57.9, 72.5, 53.6, 83.1],  # (kg)\n",
    "        \"height\": [1.56, 1.77, 1.65, 1.75],  # (m)\n",
    "    }\n",
    ")\n",
    "\n",
    "# print(df)\n",
    "\n",
    "df.write_csv(\"../data/cache/polars.csv\")\n",
    "# df_csv = pl.read_csv(\"../data/cache/polars.csv\", try_parse_dates=True)\n",
    "\n",
    "df_csv = pl.read_csv('../data/raw/us_options_opra/minute_aggs_v1/2025/07/2025-07-01.csv.gz')\n",
    "\n",
    "print(df_csv.head())"
   ]
  },
  {
   "cell_type": "code",
   "execution_count": 1,
   "id": "c877df66",
   "metadata": {},
   "outputs": [
    {
     "name": "stdout",
     "output_type": "stream",
     "text": [
      "shape: (1, 4)\n",
      "┌────────┬──────────┬────────────┬───────────┐\n",
      "│ ticker ┆ vwap     ┆ last_close ┆ ratio     │\n",
      "│ ---    ┆ ---      ┆ ---        ┆ ---       │\n",
      "│ str    ┆ f64      ┆ f32        ┆ f64       │\n",
      "╞════════╪══════════╪════════════╪═══════════╡\n",
      "│ GVH    ┆ 0.133029 ┆ 5.56       ┆ 41.795326 │\n",
      "└────────┴──────────┴────────────┴───────────┘\n"
     ]
    }
   ],
   "source": [
    "import polars as pl\n",
    "\n",
    "data_dir = \"../data/lake/us_stocks_sip/minute_aggs_v1/2025/07/*.parquet\"\n",
    "\n",
    "lf = pl.scan_parquet(data_dir)\n",
    "\n",
    "# 转换时间戳，方便取最后一日\n",
    "lf = lf.with_columns(\n",
    "    pl.from_epoch(\"window_start\", time_unit=\"ns\").alias(\"datetime\")\n",
    ")\n",
    "\n",
    "# 计算 VWAP (每个 ticker)\n",
    "vwap = (\n",
    "    lf.group_by(\"ticker\")\n",
    "      .agg((pl.col(\"close\") * pl.col(\"volume\")).sum() / pl.col(\"volume\").sum())\n",
    "      .rename({\"close\": \"vwap\"})\n",
    ")\n",
    "\n",
    "# 找到每个 ticker 当月最后的 close\n",
    "last_close = (\n",
    "    lf.sort(\"datetime\")\n",
    "      .group_by(\"ticker\")\n",
    "      .tail(1)\n",
    "      .select([\"ticker\", \"close\"])\n",
    "      .rename({\"close\": \"last_close\"})\n",
    ")\n",
    "\n",
    "# 合并结果，计算比率\n",
    "result = (\n",
    "    vwap.join(last_close, on=\"ticker\")\n",
    "        .with_columns((pl.col(\"last_close\") / pl.col(\"vwap\")).alias(\"ratio\"))\n",
    "        .sort(\"ratio\", descending=True)\n",
    "        .limit(1)\n",
    ")\n",
    "\n",
    "print(result.collect())\n"
   ]
  },
  {
   "cell_type": "code",
   "execution_count": 2,
   "id": "04c45efc",
   "metadata": {},
   "outputs": [
    {
     "data": {
      "application/vnd.jupyter.widget-view+json": {
       "model_id": "d373e4f89b7c48878950e6f3287123ea",
       "version_major": 2,
       "version_minor": 0
      },
      "text/plain": [
       "FloatProgress(value=0.0, layout=Layout(width='auto'), style=ProgressStyle(bar_color='black'))"
      ]
     },
     "metadata": {},
     "output_type": "display_data"
    },
    {
     "name": "stdout",
     "output_type": "stream",
     "text": [
      "  ticker      vwap  last_close      ratio\n",
      "0    GVH  0.133029        5.56  41.795326\n"
     ]
    }
   ],
   "source": [
    "import duckdb\n",
    "\n",
    "data_dir = \"../data/lake/us_stocks_sip/minute_aggs_v1/2025/07/*.parquet\"\n",
    "con = duckdb.connect()\n",
    "\n",
    "query = f\"\"\"\n",
    "WITH vwap AS (\n",
    "    SELECT \n",
    "        ticker,\n",
    "        SUM(close * volume)::DOUBLE / NULLIF(SUM(volume),0) AS vwap\n",
    "    FROM '{data_dir}'\n",
    "    GROUP BY ticker\n",
    "),\n",
    "last_close AS (\n",
    "    SELECT DISTINCT ON (ticker)\n",
    "        ticker, close AS last_close\n",
    "    FROM '{data_dir}'\n",
    "    ORDER BY ticker, window_start DESC\n",
    ")\n",
    "SELECT \n",
    "    vwap.ticker,\n",
    "    vwap.vwap,\n",
    "    last_close.last_close,\n",
    "    last_close.last_close / vwap.vwap AS ratio\n",
    "FROM vwap\n",
    "JOIN last_close USING (ticker)\n",
    "ORDER BY ratio DESC\n",
    "LIMIT 1;\n",
    "\"\"\"\n",
    "\n",
    "result = con.sql(query).df()\n",
    "print(result)\n"
   ]
  }
 ],
 "metadata": {
  "kernelspec": {
   "display_name": "quant101-rQ2o9wWd-py3.11",
   "language": "python",
   "name": "python3"
  },
  "language_info": {
   "codemirror_mode": {
    "name": "ipython",
    "version": 3
   },
   "file_extension": ".py",
   "mimetype": "text/x-python",
   "name": "python",
   "nbconvert_exporter": "python",
   "pygments_lexer": "ipython3",
   "version": "3.11.9"
  }
 },
 "nbformat": 4,
 "nbformat_minor": 5
}
