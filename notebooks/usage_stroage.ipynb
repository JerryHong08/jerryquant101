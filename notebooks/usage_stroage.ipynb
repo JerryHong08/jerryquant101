{
 "cells": [
  {
   "cell_type": "code",
   "execution_count": null,
   "id": "73117609",
   "metadata": {},
   "outputs": [],
   "source": [
    "import polars as pl\n",
    "# usage of splits data\n",
    "splits_dir = '../data/raw/us_stocks_sip/splits/splits.parquet'\n",
    "splits_error_dir = '../data/raw/us_stocks_sip/splits/splits_error.parquet'\n",
    "\n",
    "splits_original = pl.read_parquet(splits_dir)\n",
    "splits_errors = pl.read_parquet(splits_error_dir)\n",
    "\n",
    "splits = splits_original.filter(~pl.col('id').is_in(splits_errors['id'].implode()))\n",
    "\n",
    "# print(splits.filter(pl.col('ticker') == 'AAPL'))\n",
    "print(splits.head())\n",
    "with pl.Config(tbl_rows=100):\n",
    "    print(splits.filter((pl.col('execution_date') >= '2025-07-01')& (pl.col('execution_date') <= '2025-07-31')))\n"
   ]
  }
 ],
 "metadata": {
  "kernelspec": {
   "display_name": "quant101-rQ2o9wWd-py3.11",
   "language": "python",
   "name": "python3"
  },
  "language_info": {
   "codemirror_mode": {
    "name": "ipython",
    "version": 3
   },
   "file_extension": ".py",
   "mimetype": "text/x-python",
   "name": "python",
   "nbconvert_exporter": "python",
   "pygments_lexer": "ipython3",
   "version": "3.11.9"
  }
 },
 "nbformat": 4,
 "nbformat_minor": 5
}
